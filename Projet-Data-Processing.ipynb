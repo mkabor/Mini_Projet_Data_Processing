{
 "cells": [
  {
   "cell_type": "markdown",
   "metadata": {},
   "source": [
    "\n",
    " # Mini projet de Data Proceesing\n",
    "    \n",
    "        [=> KABORE Moumini\n",
    "        "
   ]
  },
  {
   "cell_type": "markdown",
   "metadata": {},
   "source": [
    "# 0. Import des bibiliothèques"
   ]
  },
  {
   "cell_type": "code",
   "execution_count": 94,
   "metadata": {},
   "outputs": [],
   "source": [
    "import os\n",
    "import pandas as pd\n",
    "import string\n",
    "import xlsxwriter"
   ]
  },
  {
   "cell_type": "markdown",
   "metadata": {},
   "source": [
    "# 1. Chargement et préparation des données"
   ]
  },
  {
   "cell_type": "code",
   "execution_count": 23,
   "metadata": {},
   "outputs": [],
   "source": [
    "# 1.1. Indexation du répertoire de travail\n",
    "\n",
    "os.chdir(\"C:/Users/munkab/Documents/TEELGRE/5.Connaissances/M9. Master-FD-IA-UV/M1/9.Traitement-Données-Python/Projet-Traitement\")\n",
    "\n",
    "# 1.2. Chargement de la base de données\n",
    "\n",
    "col=[\"geonameid\", \n",
    "     \"name\", \n",
    "     \"asciiname\", \n",
    "     \"alternatenames\", \n",
    "     \"latitude\", \n",
    "     \"longitude\", \n",
    "     \"feature class\", \n",
    "     \"feature code\", \n",
    "     \"country code\", \n",
    "     \"cc2\", \n",
    "     \"admin1 code\", \n",
    "     \"admin2 code\", \n",
    "     \"admin3 code\", \n",
    "     \"admin4 code\", \n",
    "     \"population\", \n",
    "     \"elevation\", \n",
    "     \"dem\", \n",
    "     \"timezone\", \n",
    "     \"modification date\"]\n",
    "\n",
    "bf = pd.read_csv(\"BF.txt\",delimiter=\"\\t\", header=None, names=col)\n"
   ]
  },
  {
   "cell_type": "code",
   "execution_count": 42,
   "metadata": {},
   "outputs": [
    {
     "name": "stderr",
     "output_type": "stream",
     "text": [
      "C:\\Users\\munkab\\anaconda3\\lib\\site-packages\\pandas\\core\\frame.py:4133: SettingWithCopyWarning: \n",
      "A value is trying to be set on a copy of a slice from a DataFrame\n",
      "\n",
      "See the caveats in the documentation: https://pandas.pydata.org/pandas-docs/stable/user_guide/indexing.html#returning-a-view-versus-a-copy\n",
      "  errors=errors,\n"
     ]
    }
   ],
   "source": [
    "# 1.3. préparation de la base de données\n",
    "\n",
    "s_col = [\"geonameid\", \"asciiname\", \"latitude\", \"longitude\"]\n",
    "\n",
    "subset_bf = bf[s_col]\n",
    "\n",
    "# 1.3. Rénommination des colonnes\n",
    "\n",
    "r_col = {\"geonameid\":\"ID\", \"asciiname\":\"location_name\", \"latitude\":\"lat\", \"longitude\":\"long\"}\n",
    "\n",
    "subset_bf.rename(columns = r_col, inplace=True)"
   ]
  },
  {
   "cell_type": "code",
   "execution_count": 43,
   "metadata": {},
   "outputs": [],
   "source": [
    "# 1.4. Enregitstrement de l base de données au format csv\n",
    "\n",
    "subset_bf.to_csv(\"burkina_location.csv\")"
   ]
  },
  {
   "cell_type": "markdown",
   "metadata": {},
   "source": [
    "# 2. Opérations sur fichier csv"
   ]
  },
  {
   "cell_type": "code",
   "execution_count": 44,
   "metadata": {},
   "outputs": [],
   "source": [
    "# 2.1. Chargement du fichier csv\n",
    "\n",
    "burkina_location = pd.read_csv('burkina_location.csv')"
   ]
  },
  {
   "cell_type": "code",
   "execution_count": 63,
   "metadata": {},
   "outputs": [],
   "source": [
    "# 2.2. Extraction des données contenant le nom gounghin\n",
    "\n",
    "burkina_location_gounghin = burkina_location[burkina_location.location_name.str.lower()==\"gounghin\"]"
   ]
  },
  {
   "cell_type": "code",
   "execution_count": 65,
   "metadata": {},
   "outputs": [],
   "source": [
    "# 2.3. Enregistrement de burkina_location_gounghin sous format csv\n",
    "\n",
    "burkina_location_gounghin.to_csv('gounghin.csv')"
   ]
  },
  {
   "cell_type": "code",
   "execution_count": 85,
   "metadata": {},
   "outputs": [],
   "source": [
    "# 2.4. Extraction des lieux dont les noms sont compris entre A et P\n",
    "\n",
    "a_p = list(string.ascii_uppercase[:16])\n",
    "\n",
    "burkina_location_a_p = burkina_location[burkina_location.location_name.str[0].isin(a_p)].sort_values(by='location_name')"
   ]
  },
  {
   "cell_type": "code",
   "execution_count": 86,
   "metadata": {},
   "outputs": [],
   "source": [
    "# 2.5. Enregistrement de burkina_location_a_p sous format csv\n",
    "\n",
    "burkina_location_a_p.to_csv('burkina_location_a_p.csv')"
   ]
  },
  {
   "cell_type": "code",
   "execution_count": 90,
   "metadata": {},
   "outputs": [
    {
     "data": {
      "text/html": [
       "<div>\n",
       "<style scoped>\n",
       "    .dataframe tbody tr th:only-of-type {\n",
       "        vertical-align: middle;\n",
       "    }\n",
       "\n",
       "    .dataframe tbody tr th {\n",
       "        vertical-align: top;\n",
       "    }\n",
       "\n",
       "    .dataframe thead th {\n",
       "        text-align: right;\n",
       "    }\n",
       "</style>\n",
       "<table border=\"1\" class=\"dataframe\">\n",
       "  <thead>\n",
       "    <tr style=\"text-align: right;\">\n",
       "      <th></th>\n",
       "      <th>Unnamed: 0</th>\n",
       "      <th>ID</th>\n",
       "      <th>location_name</th>\n",
       "      <th>lat</th>\n",
       "      <th>long</th>\n",
       "    </tr>\n",
       "  </thead>\n",
       "  <tbody>\n",
       "    <tr>\n",
       "      <th>11149</th>\n",
       "      <td>11149</td>\n",
       "      <td>12224995</td>\n",
       "      <td>Fadio-Mepehn</td>\n",
       "      <td>9.4295</td>\n",
       "      <td>-2.7775</td>\n",
       "    </tr>\n",
       "  </tbody>\n",
       "</table>\n",
       "</div>"
      ],
      "text/plain": [
       "       Unnamed: 0        ID location_name     lat    long\n",
       "11149       11149  12224995  Fadio-Mepehn  9.4295 -2.7775"
      ]
     },
     "execution_count": 90,
     "metadata": {},
     "output_type": "execute_result"
    }
   ],
   "source": [
    "# 2.6. Affichage des latitudes minimales de burkina_location.csv\n",
    "\n",
    "burkina_location[burkina_location.lat == burkina_location.lat.min()]"
   ]
  },
  {
   "cell_type": "code",
   "execution_count": 91,
   "metadata": {},
   "outputs": [
    {
     "data": {
      "text/html": [
       "<div>\n",
       "<style scoped>\n",
       "    .dataframe tbody tr th:only-of-type {\n",
       "        vertical-align: middle;\n",
       "    }\n",
       "\n",
       "    .dataframe tbody tr th {\n",
       "        vertical-align: top;\n",
       "    }\n",
       "\n",
       "    .dataframe thead th {\n",
       "        text-align: right;\n",
       "    }\n",
       "</style>\n",
       "<table border=\"1\" class=\"dataframe\">\n",
       "  <thead>\n",
       "    <tr style=\"text-align: right;\">\n",
       "      <th></th>\n",
       "      <th>Unnamed: 0</th>\n",
       "      <th>ID</th>\n",
       "      <th>location_name</th>\n",
       "      <th>lat</th>\n",
       "      <th>long</th>\n",
       "    </tr>\n",
       "  </thead>\n",
       "  <tbody>\n",
       "    <tr>\n",
       "      <th>1255</th>\n",
       "      <td>1255</td>\n",
       "      <td>2354426</td>\n",
       "      <td>Tinobole</td>\n",
       "      <td>10.75</td>\n",
       "      <td>-5.48333</td>\n",
       "    </tr>\n",
       "  </tbody>\n",
       "</table>\n",
       "</div>"
      ],
      "text/plain": [
       "      Unnamed: 0       ID location_name    lat     long\n",
       "1255        1255  2354426      Tinobole  10.75 -5.48333"
      ]
     },
     "execution_count": 91,
     "metadata": {},
     "output_type": "execute_result"
    }
   ],
   "source": [
    "# 2.7. Affichage des latitudes minimales de burkina_location.csv\n",
    "\n",
    "burkina_location[burkina_location.long == burkina_location.long.min()]"
   ]
  },
  {
   "cell_type": "code",
   "execution_count": 93,
   "metadata": {},
   "outputs": [
    {
     "data": {
      "text/html": [
       "<div>\n",
       "<style scoped>\n",
       "    .dataframe tbody tr th:only-of-type {\n",
       "        vertical-align: middle;\n",
       "    }\n",
       "\n",
       "    .dataframe tbody tr th {\n",
       "        vertical-align: top;\n",
       "    }\n",
       "\n",
       "    .dataframe thead th {\n",
       "        text-align: right;\n",
       "    }\n",
       "</style>\n",
       "<table border=\"1\" class=\"dataframe\">\n",
       "  <thead>\n",
       "    <tr style=\"text-align: right;\">\n",
       "      <th></th>\n",
       "      <th>Unnamed: 0</th>\n",
       "      <th>ID</th>\n",
       "      <th>location_name</th>\n",
       "      <th>lat</th>\n",
       "      <th>long</th>\n",
       "    </tr>\n",
       "  </thead>\n",
       "  <tbody>\n",
       "    <tr>\n",
       "      <th>0</th>\n",
       "      <td>0</td>\n",
       "      <td>2353158</td>\n",
       "      <td>Zyonguen</td>\n",
       "      <td>12.36667</td>\n",
       "      <td>-0.45000</td>\n",
       "    </tr>\n",
       "    <tr>\n",
       "      <th>1</th>\n",
       "      <td>1</td>\n",
       "      <td>2353159</td>\n",
       "      <td>Zyiliwele</td>\n",
       "      <td>12.38333</td>\n",
       "      <td>-2.73333</td>\n",
       "    </tr>\n",
       "    <tr>\n",
       "      <th>2</th>\n",
       "      <td>2</td>\n",
       "      <td>2353160</td>\n",
       "      <td>Zyanko</td>\n",
       "      <td>12.78333</td>\n",
       "      <td>-0.41667</td>\n",
       "    </tr>\n",
       "    <tr>\n",
       "      <th>3</th>\n",
       "      <td>3</td>\n",
       "      <td>2353161</td>\n",
       "      <td>Zouta</td>\n",
       "      <td>13.14908</td>\n",
       "      <td>-1.28197</td>\n",
       "    </tr>\n",
       "    <tr>\n",
       "      <th>4</th>\n",
       "      <td>4</td>\n",
       "      <td>2353162</td>\n",
       "      <td>Zourtenga</td>\n",
       "      <td>12.95741</td>\n",
       "      <td>-1.28745</td>\n",
       "    </tr>\n",
       "    <tr>\n",
       "      <th>...</th>\n",
       "      <td>...</td>\n",
       "      <td>...</td>\n",
       "      <td>...</td>\n",
       "      <td>...</td>\n",
       "      <td>...</td>\n",
       "    </tr>\n",
       "    <tr>\n",
       "      <th>11288</th>\n",
       "      <td>11288</td>\n",
       "      <td>12358467</td>\n",
       "      <td>Kate</td>\n",
       "      <td>14.13461</td>\n",
       "      <td>-0.81244</td>\n",
       "    </tr>\n",
       "    <tr>\n",
       "      <th>11290</th>\n",
       "      <td>11290</td>\n",
       "      <td>12358654</td>\n",
       "      <td>Koulhole</td>\n",
       "      <td>13.43898</td>\n",
       "      <td>-1.16817</td>\n",
       "    </tr>\n",
       "    <tr>\n",
       "      <th>11293</th>\n",
       "      <td>11293</td>\n",
       "      <td>12358657</td>\n",
       "      <td>Nagbingou</td>\n",
       "      <td>13.55244</td>\n",
       "      <td>-0.46760</td>\n",
       "    </tr>\n",
       "    <tr>\n",
       "      <th>11295</th>\n",
       "      <td>11295</td>\n",
       "      <td>12358676</td>\n",
       "      <td>Sella</td>\n",
       "      <td>14.35699</td>\n",
       "      <td>0.28666</td>\n",
       "    </tr>\n",
       "    <tr>\n",
       "      <th>11296</th>\n",
       "      <td>11296</td>\n",
       "      <td>12358677</td>\n",
       "      <td>Kiefaye</td>\n",
       "      <td>13.78260</td>\n",
       "      <td>-1.58790</td>\n",
       "    </tr>\n",
       "  </tbody>\n",
       "</table>\n",
       "<p>9026 rows × 5 columns</p>\n",
       "</div>"
      ],
      "text/plain": [
       "       Unnamed: 0        ID location_name       lat     long\n",
       "0               0   2353158      Zyonguen  12.36667 -0.45000\n",
       "1               1   2353159     Zyiliwele  12.38333 -2.73333\n",
       "2               2   2353160        Zyanko  12.78333 -0.41667\n",
       "3               3   2353161         Zouta  13.14908 -1.28197\n",
       "4               4   2353162     Zourtenga  12.95741 -1.28745\n",
       "...           ...       ...           ...       ...      ...\n",
       "11288       11288  12358467          Kate  14.13461 -0.81244\n",
       "11290       11290  12358654      Koulhole  13.43898 -1.16817\n",
       "11293       11293  12358657     Nagbingou  13.55244 -0.46760\n",
       "11295       11295  12358676         Sella  14.35699  0.28666\n",
       "11296       11296  12358677       Kiefaye  13.78260 -1.58790\n",
       "\n",
       "[9026 rows x 5 columns]"
      ]
     },
     "execution_count": 93,
     "metadata": {},
     "output_type": "execute_result"
    }
   ],
   "source": [
    "# 2.8. Les leiux dont lat>=11 et long<=0.5\n",
    "\n",
    "burkina_location[(burkina_location.lat >= 11 ) & (burkina_location.long <= 0.5 ) ]"
   ]
  },
  {
   "cell_type": "markdown",
   "metadata": {},
   "source": [
    "# 3. Sortie Excel"
   ]
  },
  {
   "cell_type": "code",
   "execution_count": 128,
   "metadata": {},
   "outputs": [],
   "source": [
    "# 3.1. Création du fichier Excel nommé mini_projet\n",
    "\n",
    "book  = xlsxwriter.Workbook(os.path.join(os.getcwd(), 'mini_projet.xlsx'))\n",
    "sheet_gounghin = book.add_worksheet('gounghin')\n",
    "sheet_a_to_p = book.add_worksheet('A_to_P')\n",
    "\n",
    "colonnes = [c for c in list(burkina_location_gounghin.columns) if c!='Unnamed: 0']\n",
    "\n",
    "# Création des entêtes \n",
    "\n",
    "for i in range(len(colonnes)):\n",
    "        sheet_gounghin.write(0, i, colonnes[i])\n",
    "        sheet_a_to_p.write(0, i, colonnes[i])\n",
    "        \n",
    "# Renseignement des données\n",
    "\n",
    "for i in range(burkina_location_gounghin.shape[0]):\n",
    "    for j in range(len(colonnes)):\n",
    "        sheet_gounghin.write(i+1, j, burkina_location_gounghin.iloc[i][colonnes[j]])\n",
    "\n",
    "for i in range(burkina_location_a_p.shape[0]):\n",
    "    for j in range(len(colonnes)):\n",
    "        sheet_a_to_p.write(i+1, j, burkina_location_a_p.iloc[i][colonnes[j]])\n",
    "book.close()"
   ]
  }
 ],
 "metadata": {
  "kernelspec": {
   "display_name": "Python 3",
   "language": "python",
   "name": "python3"
  },
  "language_info": {
   "codemirror_mode": {
    "name": "ipython",
    "version": 3
   },
   "file_extension": ".py",
   "mimetype": "text/x-python",
   "name": "python",
   "nbconvert_exporter": "python",
   "pygments_lexer": "ipython3",
   "version": "3.7.6"
  }
 },
 "nbformat": 4,
 "nbformat_minor": 4
}
